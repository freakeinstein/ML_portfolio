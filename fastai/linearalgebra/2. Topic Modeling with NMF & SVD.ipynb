{
 "cells": [
  {
   "cell_type": "markdown",
   "metadata": {},
   "source": [
    "This notebook contains my practice notes and results of fast.ai's chaptar 2 of linear algebra: http://nbviewer.jupyter.org/github/fastai/numerical-linear-algebra/blob/master/nbs/2.%20Topic%20Modeling%20with%20NMF%20and%20SVD.ipynb"
   ]
  },
  {
   "cell_type": "code",
   "execution_count": 1,
   "metadata": {},
   "outputs": [
    {
     "name": "stdout",
     "output_type": "stream",
     "text": [
      "Collecting numpy\n",
      "  Downloading https://files.pythonhosted.org/packages/68/1e/116ad560de97694e2d0c1843a7a0075cc9f49e922454d32f49a80eb6f1f2/numpy-1.14.5-cp36-cp36m-manylinux1_x86_64.whl (12.2MB)\n",
      "\u001b[K    100% |████████████████████████████████| 12.2MB 64kB/s eta 0:00:01\n",
      "\u001b[?25hInstalling collected packages: numpy\n",
      "Successfully installed numpy-1.14.5\n",
      "\u001b[33mYou are using pip version 9.0.3, however version 10.0.1 is available.\n",
      "You should consider upgrading via the 'pip install --upgrade pip' command.\u001b[0m\n",
      "Collecting sklearn\n",
      "  Downloading https://files.pythonhosted.org/packages/1e/7a/dbb3be0ce9bd5c8b7e3d87328e79063f8b263b2b1bfa4774cb1147bfcd3f/sklearn-0.0.tar.gz\n",
      "Collecting scikit-learn (from sklearn)\n",
      "  Downloading https://files.pythonhosted.org/packages/f9/c8/8db4108aba5e2166cd2ea4eafa1a4b82f89240a1fa85733029cc2358ad1f/scikit_learn-0.19.2-cp36-cp36m-manylinux1_x86_64.whl (4.9MB)\n",
      "\u001b[K    100% |████████████████████████████████| 4.9MB 155kB/s ta 0:00:011\n",
      "\u001b[?25hBuilding wheels for collected packages: sklearn\n",
      "  Running setup.py bdist_wheel for sklearn ... \u001b[?25ldone\n",
      "\u001b[?25h  Stored in directory: /home/jovyan/.cache/pip/wheels/76/03/bb/589d421d27431bcd2c6da284d5f2286c8e3b2ea3cf1594c074\n",
      "Successfully built sklearn\n",
      "Installing collected packages: scikit-learn, sklearn\n",
      "Successfully installed scikit-learn-0.19.2 sklearn-0.0\n",
      "\u001b[33mYou are using pip version 9.0.3, however version 10.0.1 is available.\n",
      "You should consider upgrading via the 'pip install --upgrade pip' command.\u001b[0m\n",
      "Collecting scipy\n",
      "  Downloading https://files.pythonhosted.org/packages/a8/0b/f163da98d3a01b3e0ef1cab8dd2123c34aee2bafbb1c5bffa354cc8a1730/scipy-1.1.0-cp36-cp36m-manylinux1_x86_64.whl (31.2MB)\n",
      "\u001b[K    100% |████████████████████████████████| 31.2MB 23kB/s eta 0:00:011\n",
      "\u001b[?25hRequirement already satisfied: numpy>=1.8.2 in /opt/conda/lib/python3.6/site-packages (from scipy)\n",
      "Installing collected packages: scipy\n",
      "Successfully installed scipy-1.1.0\n",
      "\u001b[33mYou are using pip version 9.0.3, however version 10.0.1 is available.\n",
      "You should consider upgrading via the 'pip install --upgrade pip' command.\u001b[0m\n",
      "Collecting matplotlib\n",
      "  Downloading https://files.pythonhosted.org/packages/49/b8/89dbd27f2fb171ce753bb56220d4d4f6dbc5fe32b95d8edc4415782ef07f/matplotlib-2.2.2-cp36-cp36m-manylinux1_x86_64.whl (12.6MB)\n",
      "\u001b[K    100% |████████████████████████████████| 12.6MB 62kB/s eta 0:00:011\n",
      "\u001b[?25hRequirement already satisfied: six>=1.10 in /opt/conda/lib/python3.6/site-packages (from matplotlib)\n",
      "Collecting cycler>=0.10 (from matplotlib)\n",
      "  Downloading https://files.pythonhosted.org/packages/f7/d2/e07d3ebb2bd7af696440ce7e754c59dd546ffe1bbe732c8ab68b9c834e61/cycler-0.10.0-py2.py3-none-any.whl\n",
      "Collecting pytz (from matplotlib)\n",
      "  Downloading https://files.pythonhosted.org/packages/30/4e/27c34b62430286c6d59177a0842ed90dc789ce5d1ed740887653b898779a/pytz-2018.5-py2.py3-none-any.whl (510kB)\n",
      "\u001b[K    100% |████████████████████████████████| 512kB 817kB/s ta 0:00:01\n",
      "\u001b[?25hRequirement already satisfied: python-dateutil>=2.1 in /opt/conda/lib/python3.6/site-packages (from matplotlib)\n",
      "Requirement already satisfied: numpy>=1.7.1 in /opt/conda/lib/python3.6/site-packages (from matplotlib)\n",
      "Collecting kiwisolver>=1.0.1 (from matplotlib)\n",
      "  Downloading https://files.pythonhosted.org/packages/69/a7/88719d132b18300b4369fbffa741841cfd36d1e637e1990f27929945b538/kiwisolver-1.0.1-cp36-cp36m-manylinux1_x86_64.whl (949kB)\n",
      "\u001b[K    100% |████████████████████████████████| 952kB 492kB/s ta 0:00:01\n",
      "\u001b[?25hCollecting pyparsing!=2.0.4,!=2.1.2,!=2.1.6,>=2.0.1 (from matplotlib)\n",
      "  Downloading https://files.pythonhosted.org/packages/6a/8a/718fd7d3458f9fab8e67186b00abdd345b639976bc7fb3ae722e1b026a50/pyparsing-2.2.0-py2.py3-none-any.whl (56kB)\n",
      "\u001b[K    100% |████████████████████████████████| 61kB 2.4MB/s ta 0:00:01\n",
      "\u001b[?25hRequirement already satisfied: setuptools in /opt/conda/lib/python3.6/site-packages (from kiwisolver>=1.0.1->matplotlib)\n",
      "Installing collected packages: cycler, pytz, kiwisolver, pyparsing, matplotlib\n",
      "Successfully installed cycler-0.10.0 kiwisolver-1.0.1 matplotlib-2.2.2 pyparsing-2.2.0 pytz-2018.5\n",
      "\u001b[33mYou are using pip version 9.0.3, however version 10.0.1 is available.\n",
      "You should consider upgrading via the 'pip install --upgrade pip' command.\u001b[0m\n"
     ]
    }
   ],
   "source": [
    "!pip install numpy\n",
    "!pip install sklearn\n",
    "!pip install scipy\n",
    "!pip install matplotlib"
   ]
  },
  {
   "cell_type": "markdown",
   "metadata": {},
   "source": [
    "### setting up"
   ]
  },
  {
   "cell_type": "code",
   "execution_count": 2,
   "metadata": {},
   "outputs": [],
   "source": [
    "import numpy as np\n",
    "from sklearn.datasets import fetch_20newsgroups\n",
    "from sklearn import decomposition\n",
    "from scipy import linalg\n",
    "import matplotlib.pyplot as plot\n",
    "\n",
    "%matplotlib inline \n",
    "np.set_printoptions(suppress=True)"
   ]
  },
  {
   "cell_type": "markdown",
   "metadata": {},
   "source": [
    "### set train and test data"
   ]
  },
  {
   "cell_type": "code",
   "execution_count": 3,
   "metadata": {
    "scrolled": true
   },
   "outputs": [
    {
     "name": "stderr",
     "output_type": "stream",
     "text": [
      "Downloading 20news dataset. This may take a few minutes.\n",
      "Downloading dataset from https://ndownloader.figshare.com/files/5975967 (14 MB)\n"
     ]
    }
   ],
   "source": [
    "categories = ['alt.atheism', 'talk.religion.misc', 'comp.graphics', 'sci.space']\n",
    "remove = ('headers', 'footers', 'quotes')\n",
    "newsgroups_train = fetch_20newsgroups(subset='train', categories=categories, remove=remove)\n",
    "newsgroups_test = fetch_20newsgroups(subset='test', categories=categories, remove=remove)"
   ]
  },
  {
   "cell_type": "markdown",
   "metadata": {},
   "source": [
    "### Get some glimps of data"
   ]
  },
  {
   "cell_type": "code",
   "execution_count": 4,
   "metadata": {},
   "outputs": [
    {
     "data": {
      "text/plain": [
       "((2034,), (2034,))"
      ]
     },
     "execution_count": 4,
     "metadata": {},
     "output_type": "execute_result"
    }
   ],
   "source": [
    "newsgroups_train.filenames.shape, newsgroups_train.target.shape"
   ]
  },
  {
   "cell_type": "markdown",
   "metadata": {},
   "source": [
    "### extract word frequency matrix (bag of words)"
   ]
  },
  {
   "cell_type": "code",
   "execution_count": 5,
   "metadata": {},
   "outputs": [],
   "source": [
    "# using sklearn to extract frequency matrix\n",
    "from sklearn.feature_extraction.text import CountVectorizer"
   ]
  },
  {
   "cell_type": "code",
   "execution_count": 6,
   "metadata": {},
   "outputs": [
    {
     "name": "stdout",
     "output_type": "stream",
     "text": [
      "Hi,\n",
      "\n",
      "I've noticed that if you only save a model (with all your mapping planes\n",
      "positioned carefully) to a .3DS file that when you reload it after restarting\n",
      "3DS, they are given a default position and orientation.  But if you save\n",
      "to a .PRJ file their positions/orientation are preserved.  Does anyone\n",
      "know why this information is not stored in the .3DS file?  Nothing is\n",
      "explicitly said in the manual about saving texture rules in the .PRJ file. \n",
      "I'd like to be able to read the texture rule information, does anyone have \n",
      "the format for the .PRJ file?\n",
      "\n",
      "Is the .CEL file format available from somewhere?\n",
      "\n",
      "Rych 2034\n",
      "  (0, 21025)\t1\n",
      "  (0, 3998)\t1\n",
      "  (0, 5546)\t1\n",
      "  (0, 10605)\t2\n",
      "  (0, 20973)\t1\n",
      "  (0, 19841)\t1\n",
      "  (0, 2408)\t1\n",
      "  (0, 14706)\t1\n",
      "  (0, 20977)\t1\n",
      "  (0, 23828)\t2\n",
      "  (0, 21208)\t1\n",
      "  (0, 15301)\t1\n",
      "  (0, 21084)\t1\n",
      "  (0, 9848)\t1\n",
      "  (0, 22878)\t1\n",
      "  (0, 13023)\t2\n",
      "  (0, 14154)\t1\n",
      "  (0, 8554)\t2\n",
      "  (0, 18949)\t1\n",
      "  (0, 18704)\t1\n",
      "  (0, 19066)\t3\n",
      "  (0, 17464)\t2\n",
      "  (0, 18699)\t1\n",
      "  (0, 7698)\t1\n",
      "  (0, 11203)\t1\n",
      "  :\t:\n",
      "  (2032, 5893)\t1\n",
      "  (2032, 11856)\t1\n",
      "  (2032, 3463)\t1\n",
      "  (2032, 3834)\t1\n",
      "  (2032, 11291)\t1\n",
      "  (2032, 24506)\t3\n",
      "  (2032, 14870)\t1\n",
      "  (2032, 5601)\t1\n",
      "  (2032, 15560)\t1\n",
      "  (2032, 16632)\t1\n",
      "  (2032, 11326)\t7\n",
      "  (2032, 11766)\t1\n",
      "  (2032, 4375)\t4\n",
      "  (2032, 8555)\t1\n",
      "  (2032, 8591)\t1\n",
      "  (2032, 21219)\t1\n",
      "  (2032, 22718)\t1\n",
      "  (2032, 9694)\t1\n",
      "  (2032, 4605)\t1\n",
      "  (2032, 9437)\t1\n",
      "  (2032, 19877)\t1\n",
      "  (2032, 21217)\t2\n",
      "  (2032, 13905)\t1\n",
      "  (2032, 14706)\t1\n",
      "  (2032, 8554)\t1\n",
      "[[0 0 0 ... 0 0 0]\n",
      " [0 0 0 ... 0 0 0]\n",
      " [0 0 0 ... 0 0 0]\n",
      " ...\n",
      " [0 0 0 ... 0 0 0]\n",
      " [0 0 0 ... 0 0 0]\n",
      " [0 0 0 ... 0 0 0]] (2034, 26576)\n"
     ]
    }
   ],
   "source": [
    "# specify the stopwords rule to be used when creating an instance of CountVectorizer\n",
    "vectorizer = CountVectorizer(stop_words='english')\n",
    "# see newsgroups train data\n",
    "print(newsgroups_train.data[0], len(newsgroups_train.data))\n",
    "# create documents X words Matrix (bag of words Matrix)\n",
    "vectors = vectorizer.fit_transform(newsgroups_train.data)\n",
    "print(vectors) # its numpy compressed sparse metrix into a single row\n",
    "# convert the sparse matrix to dense matrix\n",
    "vectors = vectors.todense()\n",
    "print(vectors, vectors.shape)"
   ]
  },
  {
   "cell_type": "code",
   "execution_count": 7,
   "metadata": {},
   "outputs": [
    {
     "name": "stdout",
     "output_type": "stream",
     "text": [
      "['00' '000' '0000' ... 'zware' 'zwarte' 'zyxel'] \n",
      " (26576,) \n",
      " ['cosmonauts' 'cosmos' 'cosponsored' 'cost' 'costa' 'costar' 'costing'\n",
      " 'costly' 'costruction' 'costs' 'cosy' 'cote' 'couched' 'couldn' 'council'\n",
      " 'councils' 'counsel' 'counselees' 'counselor' 'count']\n"
     ]
    }
   ],
   "source": [
    "# get vocabulary dictionary\n",
    "vocab = np.array(vectorizer.get_feature_names())\n",
    "print(vocab, '\\n', vocab.shape, '\\n', vocab[7000:7020])"
   ]
  },
  {
   "cell_type": "markdown",
   "metadata": {},
   "source": [
    "### Singular Value Decomposition (SVD)"
   ]
  },
  {
   "cell_type": "markdown",
   "metadata": {},
   "source": [
    "**Idea:** In this document classification problem, we assume each document is can be classified into any of the categories provided purely based on the words used in it. Each distinguishing word in a document from another contributes to the determination of class label to which it belongs.\n",
    "\n",
    "In Linear Algebra perspective, the features of each topic to be orthonormal. SVD helps us to factorize a single matrix into three matrices - one matrix with orthogonal columns, one with orthogonal rows and another diagonal matrix with relative importance of each factor."
   ]
  },
  {
   "cell_type": "markdown",
   "metadata": {},
   "source": [
    "**Notes from fast.ai notebook:** \n",
    "- SVD is an **exact decomposition** => the matrices it creates are big enough to fully cover the original martix.\n",
    "- SVD applications: semantic analysis, collaborative filtering/recommendations, calculate Moore-Penrose pseudoinverse, data compression, principal component analysis."
   ]
  },
  {
   "cell_type": "code",
   "execution_count": null,
   "metadata": {},
   "outputs": [],
   "source": [
    "# apply SVD to our 'vectors' (Document-Term matrix).\n",
    "%time U, s, Vh = linalg.svd(vectors) # SVD: A = U.S.Vh"
   ]
  },
  {
   "cell_type": "code",
   "execution_count": 8,
   "metadata": {},
   "outputs": [
    {
     "name": "stdout",
     "output_type": "stream",
     "text": [
      "CPU times: user 1min 55s, sys: 18.5 s, total: 2min 14s\n",
      "Wall time: 37.2 s\n"
     ]
    }
   ],
   "source": [
    "%time U, s, Vh = linalg.svd(vectors, full_matrices=False) # SVD: A = U.S.Vh"
   ]
  },
  {
   "cell_type": "markdown",
   "metadata": {},
   "source": [
    "- consider our Document-Term matrix is of size M X N. Then,\n",
    "- `full_matrices=True` by default gives U of size M X M and Vh of size N X N.\n",
    "- `full_matrices=False` gives U of size M X min(M,N) and Vh of size min(M,N) X N"
   ]
  },
  {
   "cell_type": "code",
   "execution_count": 9,
   "metadata": {},
   "outputs": [
    {
     "name": "stdout",
     "output_type": "stream",
     "text": [
      "(2034, 2034) (2034,) (2034, 26576)\n"
     ]
    }
   ],
   "source": [
    "# Let's verify,\n",
    "print(U.shape, s.shape, Vh.shape)"
   ]
  },
  {
   "cell_type": "markdown",
   "metadata": {},
   "source": [
    "Let's **confirm this is a decomposition of the input.**"
   ]
  },
  {
   "cell_type": "code",
   "execution_count": 10,
   "metadata": {},
   "outputs": [
    {
     "name": "stdout",
     "output_type": "stream",
     "text": [
      "(2034, 26576) (2034, 26576)\n",
      "2.9690515388840644e-12\n",
      "True\n"
     ]
    }
   ],
   "source": [
    "US = np.dot(U, np.diag(s))\n",
    "USVh = np.dot(US, Vh)\n",
    "print(USVh.shape, vectors.shape) # see if the shapes match\n",
    "print(np.linalg.norm(vectors - USVh)) # see if the difference between matrices is negligible\n",
    "print(np.allclose(vectors, USVh)) # see if the matrices are close"
   ]
  },
  {
   "cell_type": "markdown",
   "metadata": {},
   "source": [
    "Let's **Confirm that U, V are orthonormal**"
   ]
  },
  {
   "cell_type": "code",
   "execution_count": 11,
   "metadata": {},
   "outputs": [
    {
     "name": "stdout",
     "output_type": "stream",
     "text": [
      "[[ 1. -0.  0. ...  0.  0.  0.]\n",
      " [-0.  1.  0. ...  0. -0.  0.]\n",
      " [ 0.  0.  1. ...  0. -0.  0.]\n",
      " ...\n",
      " [ 0.  0.  0. ...  1. -0.  0.]\n",
      " [ 0. -0. -0. ... -0.  1.  0.]\n",
      " [ 0.  0.  0. ...  0.  0.  1.]]\n",
      "[[ 1.  0. -0. ... -0.  0.  0.]\n",
      " [ 0.  1. -0. ... -0. -0.  0.]\n",
      " [-0. -0.  1. ...  0.  0. -0.]\n",
      " ...\n",
      " [-0. -0.  0. ...  1. -0. -0.]\n",
      " [ 0. -0.  0. ... -0.  1. -0.]\n",
      " [ 0.  0. -0. ... -0. -0.  1.]]\n",
      "True True\n"
     ]
    }
   ],
   "source": [
    "# If a matrix A is orthonormal, then A.(Atranspose) is Identity matrix\n",
    "UUt = np.dot(U, np.transpose(U))\n",
    "print(UUt)\n",
    "VhVht = np.dot(Vh, np.transpose(Vh))\n",
    "print(VhVht)\n",
    "print(np.allclose(UUt, np.eye(UUt.shape[0])), np.allclose(VhVht, np.eye(VhVht.shape[0])))"
   ]
  },
  {
   "cell_type": "code",
   "execution_count": 12,
   "metadata": {},
   "outputs": [
    {
     "data": {
      "text/plain": [
       "[<matplotlib.lines.Line2D at 0x7f78418629e8>]"
      ]
     },
     "execution_count": 12,
     "metadata": {},
     "output_type": "execute_result"
    },
    {
     "data": {
      "image/png": "[encoded data removed]",
      "text/plain": [
       "<Figure size 432x288 with 1 Axes>"
      ]
     },
     "metadata": {},
     "output_type": "display_data"
    }
   ],
   "source": [
    "# plot the values of 's' to see how the importance values are distributed\n",
    "plot.plot(s)"
   ]
  },
  {
   "cell_type": "code",
   "execution_count": 13,
   "metadata": {},
   "outputs": [
    {
     "data": {
      "text/plain": [
       "[<matplotlib.lines.Line2D at 0x7f78417cf9b0>]"
      ]
     },
     "execution_count": 13,
     "metadata": {},
     "output_type": "execute_result"
    },
    {
     "data": {
      "image/png": "[encoded data removed]",
      "text/plain": [
       "<Figure size 432x288 with 1 Axes>"
      ]
     },
     "metadata": {},
     "output_type": "display_data"
    }
   ],
   "source": [
    "# what about first 10 values\n",
    "plot.plot(s[:10])"
   ]
  },
  {
   "cell_type": "markdown",
   "metadata": {},
   "source": [
    "**what's that we're seeing?** The above plots of vector `s` (vector of eigen values) shows that, the importance of vectors in `U` and `Vh` (eigen vectors) is decreasing exponentially as we move to the right (`U`) or down (`Vh`) respectively. In plot 2, we can see the most effective part lies within the first 10 columns (`U`) or rows (`Vh`) respectively."
   ]
  },
  {
   "cell_type": "code",
   "execution_count": 29,
   "metadata": {},
   "outputs": [
    {
     "name": "stdout",
     "output_type": "stream",
     "text": [
      "(2034, 26576) (10, 26576)\n",
      "['ditto', 'critus', 'propagandist', 'surname', 'galacticentric', 'kindergarten', 'surreal']\n",
      "['jpeg', 'gif', 'file', 'color', 'quality', 'image', 'jfif']\n",
      "['graphics', 'edu', 'pub', 'mail', '128', '3d', 'ray']\n",
      "['jesus', 'god', 'matthew', 'people', 'atheists', 'atheism', 'does']\n",
      "['image', 'data', 'processing', 'analysis', 'software', 'available', 'tools']\n",
      "['god', 'atheists', 'atheism', 'religious', 'believe', 'religion', 'argument']\n",
      "['space', 'nasa', 'lunar', 'mars', 'probe', 'moon', 'missions']\n",
      "['image', 'probe', 'surface', 'lunar', 'mars', 'probes', 'moon']\n",
      "['argument', 'fallacy', 'conclusion', 'example', 'true', 'ad', 'argumentum']\n",
      "['space', 'larson', 'image', 'theory', 'universe', 'physical', 'nasa']\n"
     ]
    }
   ],
   "source": [
    "print(Vh.shape, Vh[:10].shape)\n",
    "\n",
    "# this is a rewritten (fast.ai notebook's having a different version) code for better understandability.\n",
    "for t in Vh[:10]:\n",
    "    sorted8 = np.argsort(t)[:-8:-1]\n",
    "    topic_words = []\n",
    "    for i in sorted8:\n",
    "        topic_words.append(vocab[i])\n",
    "    print(topic_words)"
   ]
  },
  {
   "cell_type": "markdown",
   "metadata": {},
   "source": [
    "**what we're seeing here?** The above code is loading the first 10 row vectors in `Vh`, and each vector is sorted within based on their actual value. Why we're doing this? I don't know! But when we look at the corresponding words it represents, wow! we got a nice cluster of words which denotes each topic that we're interested in."
   ]
  },
  {
   "cell_type": "markdown",
   "metadata": {},
   "source": [
    "#### So the takeaway is, SVD can be used as an Unsupervised Clustering tool. "
   ]
  },
  {
   "cell_type": "markdown",
   "metadata": {},
   "source": [
    "### Non-negative Matrix Factorization (NMF)"
   ]
  },
  {
   "cell_type": "code",
   "execution_count": null,
   "metadata": {},
   "outputs": [],
   "source": []
  }
 ],
 "metadata": {
  "kernelspec": {
   "display_name": "Python 3",
   "language": "python",
   "name": "python3"
  },
  "language_info": {
   "codemirror_mode": {
    "name": "ipython",
    "version": 3
   },
   "file_extension": ".py",
   "mimetype": "text/x-python",
   "name": "python",
   "nbconvert_exporter": "python",
   "pygments_lexer": "ipython3",
   "version": "3.6.5"
  }
 },
 "nbformat": 4,
 "nbformat_minor": 2
}
